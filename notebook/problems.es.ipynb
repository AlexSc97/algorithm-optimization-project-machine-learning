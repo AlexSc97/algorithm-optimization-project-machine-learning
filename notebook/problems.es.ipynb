{
 "cells": [
  {
   "attachments": {},
   "cell_type": "markdown",
   "id": "27b09e13",
   "metadata": {},
   "source": [
    "# Problemas de optimización de algoritmos"
   ]
  },
  {
   "attachments": {},
   "cell_type": "markdown",
   "id": "ed05e9bf",
   "metadata": {},
   "source": [
    "## Ejercicio 1\n",
    "### Optimización de código para procesamiento de texto\n",
    "\n",
    "Se te ha entregado un código de procesamiento de texto que realiza las siguientes operaciones:\n",
    "\n",
    "1. Convierte todo el texto a minúsculas.\n",
    "2. Elimina los signos de puntuación.\n",
    "3. Cuenta la frecuencia de cada palabra.\n",
    "4. Muestra las 5 palabras mas comunes.\n",
    "\n",
    "El código funciona, pero es ineficiente y puede optimizarse. Tu tarea es identificar las áreas que pueden ser mejoradas y reescribir esas partes para hacer el código mas eficiente y legible.\n"
   ]
  },
  {
   "cell_type": "code",
   "execution_count": null,
   "id": "8467465b",
   "metadata": {},
   "outputs": [
    {
     "name": "stdout",
     "output_type": "stream",
     "text": [
      "'the': 5 veces\n",
      "'of': 3 veces\n",
      "'in': 2 veces\n",
      "'a': 2 veces\n",
      "'she': 2 veces\n"
     ]
    }
   ],
   "source": [
    "import string\n",
    "import re\n",
    "import collections\n",
    "# En este caso investigue la libreria \"re\" y collections, para trabajar con procesamiento de texto, y pude dejar todo en la misma funcion con las minimas iteraciones.\n",
    "def process_text(text):\n",
    "    # Texto a minuscula\n",
    "    text = text.lower()\n",
    "\n",
    "    # Eliminación de puntuaciones\n",
    "    text = re.sub(r'[^\\w\\s]', '', text)\n",
    "\n",
    "    # Split text into words\n",
    "    words = text.split()\n",
    "\n",
    "    # Conteo de frecuencias\n",
    "    frequencies = collections.Counter(words)\n",
    "\n",
    "    # Obtener las 5 palabras más comunes\n",
    "    top_5 = frequencies.most_common(5)\n",
    "    \n",
    "    for word, frequency in top_5:\n",
    "        print(f\"'{word}': {frequency} veces\")\n",
    "\n",
    "text = \"\"\"\n",
    "    In the heart of the city, Emily discovered a quaint little café, hidden away from the bustling streets. \n",
    "    The aroma of freshly baked pastries wafted through the air, drawing in passersby. As she sipped on her latte, \n",
    "    she noticed an old bookshelf filled with classics, creating a cozy atmosphere that made her lose track of time.\n",
    "\"\"\"\n",
    "process_text(text)"
   ]
  },
  {
   "cell_type": "markdown",
   "id": "29040779",
   "metadata": {},
   "source": [
    "Puntos a optimizar:\n",
    "\n",
    "1. **Eliminar los signos de puntuación**: Usar `replace`  en un ciclo puede ser ineficiente, especialmente con textos largos. Busca una formas eficiente de eliminar los signos de puntuación.\n",
    "2. **Contador de frecuencia**: El código verifica la existencia de cada palabra en el diccionario y luego actualiza su cuenta. Esto puede hacerse mas eficientemente con ciertas estructuras de datos en Python.\n",
    "3. **Ordenar y seleccionar:** Considera si hay una forma mas directa o efectiva de obtener las 5 palabras mas frecuentes sin ordenar todas las palabras.\n",
    "4. **Modularidad**: Divide el código en funciones mas pequeñas para que cada una puede realizar una tarea específica. Esto no solo optimizará el desempeño, sino también hará el código mas legible y mantenible."
   ]
  },
  {
   "cell_type": "code",
   "execution_count": null,
   "id": "57cd6641",
   "metadata": {},
   "outputs": [],
   "source": [
    "# TODO"
   ]
  },
  {
   "attachments": {},
   "cell_type": "markdown",
   "id": "011996bc",
   "metadata": {},
   "source": [
    "## Ejercicio 2\n",
    "### Optimización de código para procesamiento de listas\n",
    "\n",
    "Se te ha dado el siguiente código que realiza operaciones en una lista de números para:\n",
    "\n",
    "1. Filtrar los números pares.\n",
    "2. Duplicar cada número.\n",
    "3. Sumar todos los números.\n",
    "4. Verificar si el resultado es un número primo.\n",
    "\n",
    "El código entregado logra los objetivos, pero puede ser ineficiente. Tu tarea es identificar y mejorar las partes de ese código para mejorar su eficiencia."
   ]
  },
  {
   "cell_type": "code",
   "execution_count": null,
   "id": "783d03a0",
   "metadata": {},
   "outputs": [
    {
     "name": "stdout",
     "output_type": "stream",
     "text": [
      "Result: 60, ¿Prime? No\n"
     ]
    }
   ],
   "source": [
    "import math\n",
    "\n",
    "def is_prime(n):\n",
    "    if n <= 1:\n",
    "        return False\n",
    "    for i in range(2, int(math.sqrt(n)) + 1):\n",
    "        if n % i == 0:\n",
    "            return False\n",
    "    return True\n",
    "\n",
    "def process_list_optimizada(list_):\n",
    "    \"\"\"Aqui es donde se puede optimizar la mayor parte del codigo, en vez de agregarlos uno por uno a una lista, \n",
    "    esta lleva la cuenta de los numeros primos y los multiplica si se cumple la condicion, y lo va sumando a la vez\"\"\"\n",
    "    suma_mult = sum(num * 2 for num in list_ if num % 2 == 0)\n",
    "    # Despues comparamos si es un numero primo\n",
    "    # La variable suma_mult tiene como contenido la suma * 2 de cada numero primo que da un total de 60\n",
    "    n_primos = is_prime(suma_mult)\n",
    "    \n",
    "    return suma_mult, n_primos\n",
    "\n",
    "list_ = [1, 2, 3, 4, 5, 6, 7, 8, 9, 10]\n",
    "suma_mult, n_primos = process_list_optimizada(list_)\n",
    "print(f\"Result: {suma_mult}, ¿Prime? {'Yes' if n_primos else 'No'}\")"
   ]
  },
  {
   "cell_type": "markdown",
   "id": "128d564e",
   "metadata": {},
   "source": [
    "Puntos a optimizar:\n",
    "\n",
    "1. **Filtrar las números**: El código recorre la lista original para filtrar los números pares. Considera una forma mas eficiente de filtrar la lista.\n",
    "2. **Duplicación**: La lista es atravesada varias veces. ¿Hay alguna manera de hacer esto mas eficientemente?\n",
    "3. **Suma**: Los números en la lista se suman a traves de un bucle. Python trae incluidas unas funciones que pueden optimizar esto.\n",
    "4. **Función `is_prime`**: Aunque ésta función es relativamente eficiente, investiga si hay maneras de hacerla aun más rápida.\n",
    "5. **Modularidad**: Considera dividir el código en funciones más pequeñas, cada una enfocada en una tarea específica."
   ]
  },
  {
   "cell_type": "code",
   "execution_count": null,
   "id": "f40e35d6",
   "metadata": {},
   "outputs": [],
   "source": [
    "# TODO"
   ]
  },
  {
   "attachments": {},
   "cell_type": "markdown",
   "id": "1af70806",
   "metadata": {},
   "source": [
    "Ambos ejercicios  ayudarán a mejorar tu habilidad de optimizar el desempeño del código y te darán un mejor entendimiento de como las diferentes estructuras de datos y técnicas de programación pueden afectar la eficiencia de tu código."
   ]
  }
 ],
 "metadata": {
  "kernelspec": {
   "display_name": "Python 3",
   "language": "python",
   "name": "python3"
  },
  "language_info": {
   "codemirror_mode": {
    "name": "ipython",
    "version": 3
   },
   "file_extension": ".py",
   "mimetype": "text/x-python",
   "name": "python",
   "nbconvert_exporter": "python",
   "pygments_lexer": "ipython3",
   "version": "3.11.4"
  }
 },
 "nbformat": 4,
 "nbformat_minor": 5
}
